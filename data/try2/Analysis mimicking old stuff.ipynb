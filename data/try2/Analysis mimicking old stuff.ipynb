{
 "cells": [
  {
   "cell_type": "code",
   "execution_count": 1,
   "id": "8f96fc4f",
   "metadata": {},
   "outputs": [],
   "source": [
    "import pandas as pd\n",
    "import csv\n",
    "import numpy as np\n",
    "import matplotlib.pyplot as plt\n"
   ]
  },
  {
   "cell_type": "code",
   "execution_count": 22,
   "id": "e3cfc46e",
   "metadata": {},
   "outputs": [
    {
     "name": "stderr",
     "output_type": "stream",
     "text": [
      "C:\\Users\\cknox\\anaconda3\\lib\\site-packages\\pandas\\core\\indexing.py:1732: SettingWithCopyWarning: \n",
      "A value is trying to be set on a copy of a slice from a DataFrame\n",
      "\n",
      "See the caveats in the documentation: https://pandas.pydata.org/pandas-docs/stable/user_guide/indexing.html#returning-a-view-versus-a-copy\n",
      "  self._setitem_single_block(indexer, value, name)\n"
     ]
    },
    {
     "name": "stdout",
     "output_type": "stream",
     "text": [
      "      blank    run    n spread-type  simple-spread-chance       graph-type  \\\n",
      "0       595    595  300      simple                  0.01  barabasi-albert   \n",
      "1       732    732  300      simple                  0.01  barabasi-albert   \n",
      "2       737    737  300      simple                  0.01  barabasi-albert   \n",
      "3       890    890  300      simple                  0.01  barabasi-albert   \n",
      "4      1023   1023  300      simple                  0.01  barabasi-albert   \n",
      "...     ...    ...  ...         ...                   ...              ...   \n",
      "8036  10790  10790  300      simple                  0.75  barabasi-albert   \n",
      "8037  10791  10791  300      simple                  0.75  barabasi-albert   \n",
      "8038  10792  10792  300      simple                  0.75  barabasi-albert   \n",
      "8039  10793  10793  300      simple                  0.75  barabasi-albert   \n",
      "8040  10794  10794  300      simple                  0.75  barabasi-albert   \n",
      "\n",
      "      ba-m  citizen-media-influence  citizen-citizen-influence  \\\n",
      "0        3                     0.25                       0.75   \n",
      "1        3                     0.50                       0.75   \n",
      "2        3                     0.50                       0.75   \n",
      "3        3                     0.75                       0.75   \n",
      "4       10                     0.01                       0.75   \n",
      "...    ...                      ...                        ...   \n",
      "8036    10                     0.75                       0.75   \n",
      "8037    10                     0.75                       0.75   \n",
      "8038    10                     0.75                       0.75   \n",
      "8039    10                     0.75                       0.75   \n",
      "8040    10                     0.75                       0.75   \n",
      "\n",
      "      flint-community-size  repetition  \\\n",
      "0                    0.005           4   \n",
      "1                    0.005           1   \n",
      "2                    0.005           2   \n",
      "3                    0.005           3   \n",
      "4                    0.005           0   \n",
      "...                    ...         ...   \n",
      "8036                 0.005           4   \n",
      "8037                 0.005           4   \n",
      "8038                 0.005           4   \n",
      "8039                 0.005           4   \n",
      "8040                 0.005           4   \n",
      "\n",
      "                                                   data  \\\n",
      "0     [0. 1. 0. 0. 0. 0. 0. 1. 0. 0. 1. 0. 0. 0. 1. ...   \n",
      "1     [0. 1. 0. 0. 0. 0. 0. 0. 1. 1. 2. 0. 0. 0. 0. ...   \n",
      "2     [0. 0. 0. 0. 1. 0. 1. 0. 1. 0. 1. 0. 2. 0. 1. ...   \n",
      "3     [0. 0. 0. 0. 0. 1. 0. 0. 1. 0. 1. 1. 2. 0. 0. ...   \n",
      "4     [0. 1. 0. 0. 1. 0. 1. 2. 1. 2. 0. 0. 2. 2. 1. ...   \n",
      "...                                                 ...   \n",
      "8036  [  0.  19. 117. 106.  46.  25.   6.   5.   3. ...   \n",
      "8037  [  0.  23. 140. 101.  35.  20.   5.   2.   1. ...   \n",
      "8038  [  0.  26. 125. 106.  39.  20.   4.   4.   1. ...   \n",
      "8039  [  0.   4.  34. 134.  89.  46.  11.   5.   3. ...   \n",
      "8040  [  0.  21. 107. 115.  46.  22.  14.   1.   0. ...   \n",
      "\n",
      "                                             short list  threshold  \\\n",
      "0     [0.0, 20.0, 0.0, 0.0, 0.0, 0.0, 0.0, 20.0, 0.0...          1   \n",
      "1     [0.0, 14.285714285714285, 0.0, 0.0, 0.0, 0.0, ...          1   \n",
      "2     [0.0, 0.0, 0.0, 0.0, 16.666666666666664, 0.0, ...          1   \n",
      "3     [0.0, 0.0, 0.0, 0.0, 0.0, 12.5, 0.0, 0.0, 12.5...          1   \n",
      "4     [0.0, 25.0, 0.0, 0.0, 25.0, 0.0, 25.0, 50.0, 2...          1   \n",
      "...                                                 ...        ...   \n",
      "8036  [0.0, 16.23931623931624, 100.0, 90.59829059829...          1   \n",
      "8037  [0.0, 16.428571428571427, 100.0, 72.1428571428...          1   \n",
      "8038  [0.0, 20.8, 100.0, 84.8, 31.2, 16.0, 3.2, 3.2,...          1   \n",
      "8039  [0.0, 2.9850746268656714, 25.37313432835821, 1...          1   \n",
      "8040  [0.0, 18.26086956521739, 93.04347826086956, 10...          1   \n",
      "\n",
      "             rmse    corr_coef  total_error peak height  \n",
      "0     1347.289474  3149.000000    -0.060099           5  \n",
      "1      735.144826  2144.428571     0.079603           7  \n",
      "2      953.683236  2535.000000    -0.040848           6  \n",
      "3      574.833333  1956.000000     0.139335           8  \n",
      "4     1572.640351  3553.000000     0.059834           4  \n",
      "...           ...          ...          ...         ...  \n",
      "8036   334.320397   741.632479    -0.057750         117  \n",
      "8037   297.559792   697.285714    -0.053248         140  \n",
      "8038   319.949123   723.400000    -0.056080         125  \n",
      "8039   298.583592   704.791045    -0.059361         134  \n",
      "8040   339.576145   746.217391    -0.058524         115  \n",
      "\n",
      "[8041 rows x 18 columns]\n"
     ]
    }
   ],
   "source": [
    "#import dataframe for influence model\n",
    "infl_mod=pd.read_csv(\"infl-model-sweep-eval.csv\")\n",
    "infl_mod.columns = ['blank','run', 'n', 'spread-type', 'simple-spread-chance', 'graph-type', 'ba-m', 'citizen-media-influence','citizen-citizen-influence', 'flint-community-size','repetition', 'data', 'short list',\"threshold\", 'rmse', \"corr_coef\", 'total_error']\n",
    "infl_mod[\"peak height\"]=None\n",
    "\n",
    "def nlogo_parse_chunk(chunk):\n",
    "    chunk = chunk.strip().replace('\"','')\n",
    "    if chunk.count('[') > 1 and chunk[0] == '[':\n",
    "        return nlogo_mixed_list_to_dict_rec(chunk[chunk.index('['):].strip())\n",
    "    elif chunk.count('[') > 1 or chunk[0] != '[':\n",
    "        return { chunk[0:chunk.index('[')].strip(): nlogo_mixed_list_to_dict_rec(chunk[chunk.index('['):].strip()) }\n",
    "\n",
    "    pieces = chunk.strip().replace('[','').replace(']','').split(' ')\n",
    "    if len(pieces) == 2:\n",
    "        return { pieces[0]: pieces[1] }\n",
    "    else:\n",
    "        return pieces\n",
    "    \n",
    "\n",
    "def convert_to_int(data):\n",
    "    for i in range(0, len(data)):\n",
    "        data[i] = int(data[i])\n",
    "    return data\n",
    "\n",
    "\n",
    "def convertdata(data):\n",
    "    #print(data)\n",
    "    sdata = data.strip(' ')\n",
    "    #print('stripped data', sdata)\n",
    "    ndata = nlogo_parse_chunk(sdata)\n",
    "    #print(ndata)\n",
    "    n2data = [elem.replace('.', '') for elem in ndata]\n",
    "    #print(len(n2data))\n",
    "    list=[]\n",
    "    for x in n2data:\n",
    "        list.append(x.replace(\"\\r\\n\", \"\"))\n",
    "    #print(list)\n",
    "    list = [i for i in list if i]\n",
    "    #print(list)\n",
    "    #print(len(list))\n",
    "    return list\n",
    "\n",
    "for i in range(0, len(infl_mod)):\n",
    "    data=infl_mod[\"data\"].iloc[i]\n",
    "    #print(data)\n",
    "    finallist = convertdata(data)\n",
    "    int_data = convert_to_int(finallist)\n",
    "    short_list=int_data[: 114]\n",
    "    #print(short_list)\n",
    "    #print(len(short_list))\n",
    "    infl_mod['peak height'].iloc[i]=max(short_list)\n",
    "    \n",
    "print(infl_mod)\n",
    "    \n"
   ]
  },
  {
   "cell_type": "code",
   "execution_count": 24,
   "id": "18196c1f",
   "metadata": {},
   "outputs": [
    {
     "data": {
      "image/png": "[encoded data removed]",
      "text/plain": [
       "<Figure size 432x288 with 1 Axes>"
      ]
     },
     "metadata": {
      "needs_background": "light"
     },
     "output_type": "display_data"
    }
   ],
   "source": [
    "import seaborn as sns\n",
    "\n",
    "sns.boxplot(data=infl_mod, x=\"simple-spread-chance\", y='peak height')\n",
    "plt.title(\"Effect of Simple-spread-chance on influence model\")\n",
    "plt.show()"
   ]
  },
  {
   "cell_type": "code",
   "execution_count": null,
   "id": "017fea19",
   "metadata": {},
   "outputs": [],
   "source": [
    "nondyn_org"
   ]
  }
 ],
 "metadata": {
  "kernelspec": {
   "display_name": "Python 3 (ipykernel)",
   "language": "python",
   "name": "python3"
  },
  "language_info": {
   "codemirror_mode": {
    "name": "ipython",
    "version": 3
   },
   "file_extension": ".py",
   "mimetype": "text/x-python",
   "name": "python",
   "nbconvert_exporter": "python",
   "pygments_lexer": "ipython3",
   "version": "3.9.7"
  }
 },
 "nbformat": 4,
 "nbformat_minor": 5
}
