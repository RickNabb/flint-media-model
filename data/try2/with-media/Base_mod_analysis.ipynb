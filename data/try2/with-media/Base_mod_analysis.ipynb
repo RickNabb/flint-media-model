{
 "cells": [
  {
   "cell_type": "code",
   "execution_count": 1,
   "id": "57d68b32",
   "metadata": {},
   "outputs": [],
   "source": [
    "import matplotlib.pyplot as plt\n",
    "import numpy as np\n",
    "import seaborn as sns\n",
    "import csv\n",
    "import pandas as pd\n",
    "import re\n",
    "import array as arr\n",
    "from scipy.stats import pearsonr"
   ]
  },
  {
   "cell_type": "code",
   "execution_count": 3,
   "id": "a3c9b885",
   "metadata": {},
   "outputs": [],
   "source": [
    "df=pd.read_csv(\"base_mod_with_metrics.csv\")"
   ]
  },
  {
   "cell_type": "code",
   "execution_count": 4,
   "id": "c4e80b0d",
   "metadata": {},
   "outputs": [
    {
     "name": "stdout",
     "output_type": "stream",
     "text": [
      "    ba-m  simple-spread-chance  threshold\n",
      "0      1                  0.01          0\n",
      "1      1                  0.05         35\n",
      "2      1                  0.10         62\n",
      "3      1                  0.25         31\n",
      "4      1                  0.50         30\n",
      "5      1                  0.75         89\n",
      "6      2                  0.01          0\n",
      "7      2                  0.05        149\n",
      "8      2                  0.10        150\n",
      "9      2                  0.25        150\n",
      "10     2                  0.50        150\n",
      "11     2                  0.75        150\n",
      "12     3                  0.01          0\n",
      "13     3                  0.05        150\n",
      "14     3                  0.10        150\n",
      "15     3                  0.25        150\n",
      "16     3                  0.50        150\n",
      "17     3                  0.75        150\n",
      "18     5                  0.01          0\n",
      "19     5                  0.05        150\n",
      "20     5                  0.10        150\n",
      "21     5                  0.25        150\n",
      "22     5                  0.50        150\n",
      "23     5                  0.75        150\n",
      "24    10                  0.01          0\n",
      "25    10                  0.05        150\n",
      "26    10                  0.10        150\n",
      "27    10                  0.25        150\n",
      "28    10                  0.50        150\n",
      "29    10                  0.75        150\n",
      "30    20                  0.01          0\n",
      "31    20                  0.05        150\n",
      "32    20                  0.10        150\n",
      "33    20                  0.25        150\n",
      "34    20                  0.50        150\n",
      "35    20                  0.75        149\n",
      "36    50                  0.01          0\n",
      "37    50                  0.05        149\n",
      "38    50                  0.10        150\n",
      "39    50                  0.25        150\n",
      "40    50                  0.50        150\n",
      "41    50                  0.75        150\n"
     ]
    },
    {
     "data": {
      "image/png": "[encoded data removed]",
      "text/plain": [
       "<Figure size 432x288 with 1 Axes>"
      ]
     },
     "metadata": {
      "needs_background": "light"
     },
     "output_type": "display_data"
    }
   ],
   "source": [
    "base_mod_thresh_count=df.groupby([\"ba-m\", 'simple-spread-chance'])['threshold'].sum().reset_index()\n",
    "print(base_mod_thresh_count)\n",
    "\n",
    "plt.hist(base_mod_thresh_count[\"threshold\"], bins=25)\n",
    "plt.title('Number of simulations per parameter combination that reached threshold')\n",
    "plt.show()\n",
    "\n",
    "\n"
   ]
  },
  {
   "cell_type": "code",
   "execution_count": 5,
   "id": "5396e237",
   "metadata": {},
   "outputs": [
    {
     "name": "stdout",
     "output_type": "stream",
     "text": [
      "    ba-m  simple-spread-chance  threshold\n",
      "7      2                  0.05        149\n",
      "8      2                  0.10        150\n",
      "9      2                  0.25        150\n",
      "10     2                  0.50        150\n",
      "11     2                  0.75        150\n",
      "13     3                  0.05        150\n",
      "14     3                  0.10        150\n",
      "15     3                  0.25        150\n",
      "16     3                  0.50        150\n",
      "17     3                  0.75        150\n",
      "19     5                  0.05        150\n",
      "20     5                  0.10        150\n",
      "21     5                  0.25        150\n",
      "22     5                  0.50        150\n",
      "23     5                  0.75        150\n",
      "25    10                  0.05        150\n",
      "26    10                  0.10        150\n",
      "27    10                  0.25        150\n",
      "28    10                  0.50        150\n",
      "29    10                  0.75        150\n",
      "31    20                  0.05        150\n",
      "32    20                  0.10        150\n",
      "33    20                  0.25        150\n",
      "34    20                  0.50        150\n",
      "35    20                  0.75        149\n",
      "37    50                  0.05        149\n",
      "38    50                  0.10        150\n",
      "39    50                  0.25        150\n",
      "40    50                  0.50        150\n",
      "41    50                  0.75        150\n"
     ]
    }
   ],
   "source": [
    "base_mod_thresh_count=base_mod_thresh_count.loc[base_mod_thresh_count['threshold']>=100]\n",
    "print(base_mod_thresh_count)\n"
   ]
  },
  {
   "cell_type": "code",
   "execution_count": 6,
   "id": "9ada3a1b",
   "metadata": {},
   "outputs": [
    {
     "name": "stdout",
     "output_type": "stream",
     "text": [
      "next param setting 0\n",
      "next param setting 1\n",
      "next param setting 2\n"
     ]
    },
    {
     "name": "stderr",
     "output_type": "stream",
     "text": [
      "C:\\Users\\cknox02\\Anaconda3\\lib\\site-packages\\pandas\\core\\indexing.py:1732: SettingWithCopyWarning: \n",
      "A value is trying to be set on a copy of a slice from a DataFrame\n",
      "\n",
      "See the caveats in the documentation: https://pandas.pydata.org/pandas-docs/stable/user_guide/indexing.html#returning-a-view-versus-a-copy\n",
      "  self._setitem_single_block(indexer, value, name)\n"
     ]
    },
    {
     "name": "stdout",
     "output_type": "stream",
     "text": [
      "next param setting 3\n",
      "next param setting 4\n",
      "next param setting 5\n",
      "next param setting 6\n",
      "next param setting 7\n",
      "next param setting 8\n",
      "next param setting 9\n",
      "next param setting 10\n",
      "next param setting 11\n",
      "next param setting 12\n",
      "next param setting 13\n",
      "next param setting 14\n",
      "next param setting 15\n",
      "next param setting 16\n",
      "next param setting 17\n",
      "next param setting 18\n",
      "next param setting 19\n",
      "next param setting 20\n",
      "next param setting 21\n",
      "next param setting 22\n",
      "next param setting 23\n",
      "next param setting 24\n",
      "next param setting 25\n",
      "next param setting 26\n",
      "next param setting 27\n",
      "next param setting 28\n",
      "next param setting 29\n",
      "      Unnamed: 0   run    n spread-type  simple-spread-chance  \\\n",
      "0              0     0  300      simple                  0.01   \n",
      "1              1     1  300      simple                  0.01   \n",
      "2              2     2  300      simple                  0.01   \n",
      "3              3     3  300      simple                  0.01   \n",
      "4              4     4  300      simple                  0.01   \n",
      "...          ...   ...  ...         ...                   ...   \n",
      "6292        6292  6292  300      simple                  0.75   \n",
      "6293        6293  6293  300      simple                  0.75   \n",
      "6294        6294  6294  300      simple                  0.75   \n",
      "6295        6295  6295  300      simple                  0.75   \n",
      "6296        6296  6296  300      simple                  0.75   \n",
      "\n",
      "           graph-type  ba-m  citizen-citizen-influence  \\\n",
      "0     barabasi-albert     1                          1   \n",
      "1     barabasi-albert     1                          1   \n",
      "2     barabasi-albert     1                          1   \n",
      "3     barabasi-albert     1                          1   \n",
      "4     barabasi-albert     1                          1   \n",
      "...               ...   ...                        ...   \n",
      "6292  barabasi-albert    50                          1   \n",
      "6293  barabasi-albert    50                          1   \n",
      "6294  barabasi-albert    50                          1   \n",
      "6295  barabasi-albert    50                          1   \n",
      "6296  barabasi-albert    50                          1   \n",
      "\n",
      "      citizen-media-influence  repetition  \\\n",
      "0                           1           0   \n",
      "1                           1           0   \n",
      "2                           1           0   \n",
      "3                           1           0   \n",
      "4                           1           0   \n",
      "...                       ...         ...   \n",
      "6292                        1           4   \n",
      "6293                        1           4   \n",
      "6294                        1           4   \n",
      "6295                        1           4   \n",
      "6296                        1           4   \n",
      "\n",
      "                                                   data  num_media  \\\n",
      "0     [0. 0. 0. 1. 0. 0. 0. 0. 0. 0. 1. 0. 1. 1. 0. ...        139   \n",
      "1     [0. 0. 0. 0. 0. 0. 0. 0. 0. 0. 0. 0. 0. 0. 0. ...        139   \n",
      "2     [0. 0. 0. 0. 0. 0. 0. 0. 0. 0. 0. 0. 0. 0. 0. ...        139   \n",
      "3     [0. 0. 0. 0. 0. 0. 0. 0. 0. 0. 0. 0. 0. 0. 0. ...        139   \n",
      "4     [0. 0. 0. 0. 0. 0. 0. 0. 0. 0. 0. 0. 0. 0. 0. ...        139   \n",
      "...                                                 ...        ...   \n",
      "6292  [  0. 183.  38.  29.   7.  16.   9.   0.   0. ...          7   \n",
      "6293  [  0. 174.  48.  44.  13.   2.   1.   0.   0. ...          7   \n",
      "6294  [  0. 167.  57.  42.  14.   2.   0.   0.   0. ...          7   \n",
      "6295  [  0. 165.  53.  46.  11.   5.   2.   0.   0. ...          7   \n",
      "6296  [  0. 163.  57.  34.  23.   3.   2.   0.   0. ...          7   \n",
      "\n",
      "                                             short list  \\\n",
      "0     [0.0, 0.0, 0.0, 50.0, 0.0, 0.0, 0.0, 0.0, 0.0,...   \n",
      "1     [0.0, 0.0, 0.0, 0.0, 0.0, 0.0, 0.0, 0.0, 0.0, ...   \n",
      "2     [0.0, 0.0, 0.0, 0.0, 0.0, 0.0, 0.0, 0.0, 0.0, ...   \n",
      "3     [0.0, 0.0, 0.0, 0.0, 0.0, 0.0, 0.0, 0.0, 0.0, ...   \n",
      "4     [0.0, 0.0, 0.0, 0.0, 0.0, 0.0, 0.0, 0.0, 0.0, ...   \n",
      "...                                                 ...   \n",
      "6292  [0.0, 100.0, 20.76502732240437, 15.84699453551...   \n",
      "6293  [0.0, 100.0, 27.586206896551722, 25.2873563218...   \n",
      "6294  [0.0, 100.0, 34.13173652694611, 25.14970059880...   \n",
      "6295  [0.0, 100.0, 32.121212121212125, 27.8787878787...   \n",
      "6296  [0.0, 100.0, 34.96932515337423, 20.85889570552...   \n",
      "\n",
      "                                          unscaled-list  threshold  peak-time  \\\n",
      "0     [0, 0, 0, 1, 0, 0, 0, 0, 0, 0, 1, 0, 1, 1, 0, ...          0         31   \n",
      "1     [0, 0, 0, 0, 0, 0, 0, 0, 0, 0, 0, 0, 0, 0, 0, ...          0         62   \n",
      "2     [0, 0, 0, 0, 0, 0, 0, 0, 0, 0, 0, 0, 0, 0, 0, ...          0         38   \n",
      "3     [0, 0, 0, 0, 0, 0, 0, 0, 0, 0, 0, 0, 0, 0, 0, ...          0         81   \n",
      "4     [0, 0, 0, 0, 0, 0, 0, 0, 0, 0, 0, 0, 0, 0, 0, ...          0         25   \n",
      "...                                                 ...        ...        ...   \n",
      "6292  [0, 183, 38, 29, 7, 16, 9, 0, 0, 0, 0, 0, 0, 0...          1          1   \n",
      "6293  [0, 174, 48, 44, 13, 2, 1, 0, 0, 0, 0, 0, 0, 0...          1          1   \n",
      "6294  [0, 167, 57, 42, 14, 2, 0, 0, 0, 0, 0, 0, 0, 0...          1          1   \n",
      "6295  [0, 165, 53, 46, 11, 5, 2, 0, 0, 0, 0, 0, 0, 0...          1          1   \n",
      "6296  [0, 163, 57, 34, 23, 3, 2, 0, 0, 0, 0, 0, 0, 0...          1          1   \n",
      "\n",
      "      total-spread param-thresh  \n",
      "0               16         None  \n",
      "1               19         None  \n",
      "2               15         None  \n",
      "3                4         None  \n",
      "4               17         None  \n",
      "...            ...          ...  \n",
      "6292           282            1  \n",
      "6293           282            1  \n",
      "6294           282            1  \n",
      "6295           282            1  \n",
      "6296           282            1  \n",
      "\n",
      "[6297 rows x 18 columns]\n"
     ]
    }
   ],
   "source": [
    "#now lets limit the spread to runs where 80% of the scenarios passed the chosen threshold\n",
    "#add success/not success column\n",
    "\n",
    "df['param-thresh']=None\n",
    "for i in range(0, len(base_mod_thresh_count)):\n",
    "    ba_m_val = base_mod_thresh_count['ba-m'].iloc[i]\n",
    "    simple_spread_chance_val = base_mod_thresh_count['simple-spread-chance'].iloc[i]\n",
    "    print('next param setting',i)\n",
    "    for j in range(0, len(df)):\n",
    "        if df['ba-m'].iloc[j] == ba_m_val:\n",
    "            if df['simple-spread-chance'].iloc[j] == simple_spread_chance_val:\n",
    "                df['param-thresh'].iloc[j] = 1       \n",
    "            else:\n",
    "                pass\n",
    "        else:\n",
    "            pass\n",
    "\n",
    "df.to_csv('base_mod_with_param_thresh.csv')            \n",
    "print(df)"
   ]
  },
  {
   "cell_type": "code",
   "execution_count": 7,
   "id": "75ff1626",
   "metadata": {},
   "outputs": [
    {
     "name": "stdout",
     "output_type": "stream",
     "text": [
      "      Unnamed: 0   run    n spread-type  simple-spread-chance  \\\n",
      "1200        1200  1200  300      simple                  0.05   \n",
      "1201        1201  1201  300      simple                  0.05   \n",
      "1202        1202  1202  300      simple                  0.05   \n",
      "1203        1203  1203  300      simple                  0.05   \n",
      "1204        1204  1204  300      simple                  0.05   \n",
      "...          ...   ...  ...         ...                   ...   \n",
      "6292        6292  6292  300      simple                  0.75   \n",
      "6293        6293  6293  300      simple                  0.75   \n",
      "6294        6294  6294  300      simple                  0.75   \n",
      "6295        6295  6295  300      simple                  0.75   \n",
      "6296        6296  6296  300      simple                  0.75   \n",
      "\n",
      "           graph-type  ba-m  citizen-citizen-influence  \\\n",
      "1200  barabasi-albert     2                          1   \n",
      "1201  barabasi-albert     2                          1   \n",
      "1202  barabasi-albert     2                          1   \n",
      "1203  barabasi-albert     2                          1   \n",
      "1204  barabasi-albert     2                          1   \n",
      "...               ...   ...                        ...   \n",
      "6292  barabasi-albert    50                          1   \n",
      "6293  barabasi-albert    50                          1   \n",
      "6294  barabasi-albert    50                          1   \n",
      "6295  barabasi-albert    50                          1   \n",
      "6296  barabasi-albert    50                          1   \n",
      "\n",
      "      citizen-media-influence  repetition  \\\n",
      "1200                        1           0   \n",
      "1201                        1           0   \n",
      "1202                        1           0   \n",
      "1203                        1           0   \n",
      "1204                        1           0   \n",
      "...                       ...         ...   \n",
      "6292                        1           4   \n",
      "6293                        1           4   \n",
      "6294                        1           4   \n",
      "6295                        1           4   \n",
      "6296                        1           4   \n",
      "\n",
      "                                                   data  num_media  \\\n",
      "1200  [ 0.  1.  1.  1.  0.  1.  0.  0.  1.  2.  2.  ...        161   \n",
      "1201  [ 0.  0.  1.  0.  0.  0.  0.  0.  1.  1.  0.  ...        161   \n",
      "1202  [ 0.  0.  0.  0.  0.  0.  0.  0.  0.  0.  0.  ...        161   \n",
      "1203  [ 0.  0.  0.  0.  1.  1.  1.  3.  1.  2.  0.  ...        161   \n",
      "1204  [ 0.  1.  0.  0.  1.  0.  1.  2.  2.  1.  3.  ...        161   \n",
      "...                                                 ...        ...   \n",
      "6292  [  0. 183.  38.  29.   7.  16.   9.   0.   0. ...          7   \n",
      "6293  [  0. 174.  48.  44.  13.   2.   1.   0.   0. ...          7   \n",
      "6294  [  0. 167.  57.  42.  14.   2.   0.   0.   0. ...          7   \n",
      "6295  [  0. 165.  53.  46.  11.   5.   2.   0.   0. ...          7   \n",
      "6296  [  0. 163.  57.  34.  23.   3.   2.   0.   0. ...          7   \n",
      "\n",
      "                                             short list  \\\n",
      "1200  [0.0, 7.142857142857142, 7.142857142857142, 7....   \n",
      "1201  [0.0, 0.0, 5.0, 0.0, 0.0, 0.0, 0.0, 0.0, 5.0, ...   \n",
      "1202  [0.0, 0.0, 0.0, 0.0, 0.0, 0.0, 0.0, 0.0, 0.0, ...   \n",
      "1203  [0.0, 0.0, 0.0, 0.0, 6.666666666666667, 6.6666...   \n",
      "1204  [0.0, 7.142857142857142, 0.0, 0.0, 7.142857142...   \n",
      "...                                                 ...   \n",
      "6292  [0.0, 100.0, 20.76502732240437, 15.84699453551...   \n",
      "6293  [0.0, 100.0, 27.586206896551722, 25.2873563218...   \n",
      "6294  [0.0, 100.0, 34.13173652694611, 25.14970059880...   \n",
      "6295  [0.0, 100.0, 32.121212121212125, 27.8787878787...   \n",
      "6296  [0.0, 100.0, 34.96932515337423, 20.85889570552...   \n",
      "\n",
      "                                          unscaled-list  threshold  peak-time  \\\n",
      "1200  [0, 1, 1, 1, 0, 1, 0, 0, 1, 2, 2, 2, 0, 1, 2, ...          1         74   \n",
      "1201  [0, 0, 1, 0, 0, 0, 0, 0, 1, 1, 0, 0, 0, 1, 1, ...          1         52   \n",
      "1202  [0, 0, 0, 0, 0, 0, 0, 0, 0, 0, 0, 1, 0, 0, 2, ...          1         68   \n",
      "1203  [0, 0, 0, 0, 1, 1, 1, 3, 1, 2, 0, 4, 1, 3, 1, ...          1         80   \n",
      "1204  [0, 1, 0, 0, 1, 0, 1, 2, 2, 1, 3, 1, 5, 1, 3, ...          1         42   \n",
      "...                                                 ...        ...        ...   \n",
      "6292  [0, 183, 38, 29, 7, 16, 9, 0, 0, 0, 0, 0, 0, 0...          1          1   \n",
      "6293  [0, 174, 48, 44, 13, 2, 1, 0, 0, 0, 0, 0, 0, 0...          1          1   \n",
      "6294  [0, 167, 57, 42, 14, 2, 0, 0, 0, 0, 0, 0, 0, 0...          1          1   \n",
      "6295  [0, 165, 53, 46, 11, 5, 2, 0, 0, 0, 0, 0, 0, 0...          1          1   \n",
      "6296  [0, 163, 57, 34, 23, 3, 2, 0, 0, 0, 0, 0, 0, 0...          1          1   \n",
      "\n",
      "      total-spread param-thresh  \n",
      "1200           386            1  \n",
      "1201           451            1  \n",
      "1202           418            1  \n",
      "1203           421            1  \n",
      "1204           452            1  \n",
      "...            ...          ...  \n",
      "6292           282            1  \n",
      "6293           282            1  \n",
      "6294           282            1  \n",
      "6295           282            1  \n",
      "6296           282            1  \n",
      "\n",
      "[4498 rows x 18 columns]\n"
     ]
    }
   ],
   "source": [
    "base_mod_thresh_pass=df.loc[df['param-thresh'] == 1]\n",
    "print(base_mod_thresh_pass)"
   ]
  },
  {
   "cell_type": "code",
   "execution_count": 8,
   "id": "a4fda585",
   "metadata": {},
   "outputs": [
    {
     "data": {
      "text/plain": [
       "(array([1.463e+03, 1.091e+03, 4.090e+02, 2.640e+02, 2.940e+02, 1.650e+02,\n",
       "        1.400e+02, 1.120e+02, 1.390e+02, 6.400e+01, 5.000e+01, 5.300e+01,\n",
       "        4.700e+01, 2.700e+01, 2.000e+01, 1.900e+01, 2.600e+01, 1.000e+01,\n",
       "        9.000e+00, 8.000e+00, 9.000e+00, 8.000e+00, 1.100e+01, 8.000e+00,\n",
       "        4.000e+00, 7.000e+00, 8.000e+00, 6.000e+00, 5.000e+00, 5.000e+00,\n",
       "        2.000e+00, 1.000e+00, 1.000e+00, 2.000e+00, 1.000e+00, 4.000e+00,\n",
       "        1.000e+00, 0.000e+00, 1.000e+00, 1.000e+00, 2.000e+00, 0.000e+00,\n",
       "        0.000e+00, 0.000e+00, 0.000e+00, 0.000e+00, 0.000e+00, 0.000e+00,\n",
       "        0.000e+00, 1.000e+00]),\n",
       " array([  1.  ,   3.24,   5.48,   7.72,   9.96,  12.2 ,  14.44,  16.68,\n",
       "         18.92,  21.16,  23.4 ,  25.64,  27.88,  30.12,  32.36,  34.6 ,\n",
       "         36.84,  39.08,  41.32,  43.56,  45.8 ,  48.04,  50.28,  52.52,\n",
       "         54.76,  57.  ,  59.24,  61.48,  63.72,  65.96,  68.2 ,  70.44,\n",
       "         72.68,  74.92,  77.16,  79.4 ,  81.64,  83.88,  86.12,  88.36,\n",
       "         90.6 ,  92.84,  95.08,  97.32,  99.56, 101.8 , 104.04, 106.28,\n",
       "        108.52, 110.76, 113.  ]),\n",
       " <BarContainer object of 50 artists>)"
      ]
     },
     "execution_count": 8,
     "metadata": {},
     "output_type": "execute_result"
    },
    {
     "data": {
      "image/png": "[encoded data removed]",
      "text/plain": [
       "<Figure size 432x288 with 1 Axes>"
      ]
     },
     "metadata": {
      "needs_background": "light"
     },
     "output_type": "display_data"
    }
   ],
   "source": [
    "plt.hist(base_mod_thresh_pass['peak-time'], bins = 50)"
   ]
  },
  {
   "cell_type": "code",
   "execution_count": 9,
   "id": "b326141a",
   "metadata": {},
   "outputs": [
    {
     "name": "stdout",
     "output_type": "stream",
     "text": [
      "['#3e5ea8', '#5183bb', '#6ea6ce', '#90c3dd', '#b2ddeb', '#d4edf4', '#ecf8e2', '#fffebe', '#feeba1', '#fed283', '#fdb366', '#f88c51', '#ef633f', '#dd3d2d', '#c21c27']\n"
     ]
    },
    {
     "data": {
      "image/png": "[encoded data removed]",
      "text/plain": [
       "<Figure size 1080x72 with 1 Axes>"
      ]
     },
     "metadata": {
      "needs_background": "light"
     },
     "output_type": "display_data"
    }
   ],
   "source": [
    "sns.palplot(sns.color_palette(\"RdYlBu_r\", 15))\n",
    "print(sns.color_palette(\"RdYlBu_r\",15).as_hex())"
   ]
  },
  {
   "cell_type": "code",
   "execution_count": 10,
   "id": "adfa5649",
   "metadata": {},
   "outputs": [
    {
     "data": {
      "image/png": "[encoded data removed]",
      "text/plain": [
       "<Figure size 720x432 with 1 Axes>"
      ]
     },
     "metadata": {
      "needs_background": "light"
     },
     "output_type": "display_data"
    }
   ],
   "source": [
    "from matplotlib.pyplot import figure\n",
    "figure(figsize=(10, 6))\n",
    "sns.set_palette(\"RdYlBu_r\",1)\n",
    "import matplotlib.patches as mpatches\n",
    "#sns.histplot(base_mod_thresh_pass, x=\"peak-time\", hue=\"simple-spread-chance\", bins=30, palette=\"RdYlBu_r\")\n",
    "sns.histplot(base_mod_thresh_pass, x=\"peak-time\", hue=\"simple-spread-chance\", bins=40, palette=['#5183bb','#90c3dd','#feeba1','#ef633f','#c21c27'])\n",
    "plt.axvline(91,0,800, color = '#d22b27', label = \"Flint Peak\")\n",
    "plt.axvline(3,0,800, color = '#3e5ea8', label = \"East Palestine\")\n",
    "plt.title(\"Base Model Time of Peak Results\")\n",
    "plt.xlabel(\"Time of Peak\")\n",
    "\n",
    "\n",
    "ep = mpatches.Patch(color='#3e5ea8', label='East Palestine', fill = False)\n",
    "flint = mpatches.Patch(color='#d22b27', label='Flint', fill= False)\n",
    "zero_five = mpatches.Patch(color='#5183bb', label='0.05')\n",
    "one = mpatches.Patch(color='#90c3dd', label='0.1')\n",
    "two_five = mpatches.Patch(color='#feeba1', label='0.25')\n",
    "five = mpatches.Patch(color='#ef633f', label='0.5')\n",
    "seven_five = mpatches.Patch(color='#c21c27', label='0.75')\n",
    "plt.legend(handles=[flint, ep, zero_five, one, two_five, five, seven_five], loc = 'upper center', bbox_to_anchor=(0.5,-.1), ncol=7, fontsize=10,title=\"Simple Spread Chance\" )\n",
    "\n",
    "plt.savefig(\"Base Model Histogram Time Peaks.png\")"
   ]
  },
  {
   "cell_type": "code",
   "execution_count": 11,
   "id": "2146aa38",
   "metadata": {},
   "outputs": [
    {
     "name": "stdout",
     "output_type": "stream",
     "text": [
      "       Unnamed: 0    run    n spread-type  simple-spread-chance  \\\n",
      "0               0      0  300      simple                  0.01   \n",
      "1               1      1  300      simple                  0.01   \n",
      "2               2      2  300      simple                  0.01   \n",
      "3               3      3  300      simple                  0.01   \n",
      "4               4      4  300      simple                  0.01   \n",
      "...           ...    ...  ...         ...                   ...   \n",
      "64637       64637  64637  300      simple                  0.75   \n",
      "64638       64638  64638  300      simple                  0.75   \n",
      "64639       64639  64639  300      simple                  0.75   \n",
      "64640       64640  64640  300      simple                  0.75   \n",
      "64641       64641  64641  300      simple                  0.75   \n",
      "\n",
      "            graph-type  ba-m  citizen-media-influence  \\\n",
      "0      barabasi-albert     3                     0.01   \n",
      "1      barabasi-albert     3                     0.01   \n",
      "2      barabasi-albert     3                     0.01   \n",
      "3      barabasi-albert     3                     0.01   \n",
      "4      barabasi-albert     3                     0.01   \n",
      "...                ...   ...                      ...   \n",
      "64637  barabasi-albert    10                     0.75   \n",
      "64638  barabasi-albert    10                     0.75   \n",
      "64639  barabasi-albert    10                     0.75   \n",
      "64640  barabasi-albert    10                     0.75   \n",
      "64641  barabasi-albert    10                     0.75   \n",
      "\n",
      "       citizen-citizen-influence  repetition  ... peak-time  total-spread  \\\n",
      "0                           0.01           0  ...        87             1   \n",
      "1                           0.01           0  ...        87             0   \n",
      "2                           0.01           0  ...        36            10   \n",
      "3                           0.01           0  ...        92             1   \n",
      "4                           0.01           0  ...        92             0   \n",
      "...                          ...         ...  ...       ...           ...   \n",
      "64637                       0.75           4  ...         3           332   \n",
      "64638                       0.75           4  ...         3           332   \n",
      "64639                       0.75           4  ...         3           332   \n",
      "64640                       0.75           4  ...         3           332   \n",
      "64641                       0.75           4  ...         3           332   \n",
      "\n",
      "      1-week-spread  2-week-spread  3-week-spread  4-week-spread  \\\n",
      "0        100.000000     100.000000          100.0     100.000000   \n",
      "1          0.000000       0.000000            0.0       0.000000   \n",
      "2        100.000000     100.000000          100.0     100.000000   \n",
      "3        100.000000     100.000000          100.0     100.000000   \n",
      "4          0.000000       0.000000            0.0       0.000000   \n",
      "...             ...            ...            ...            ...   \n",
      "64637     52.631579      92.481203          100.0      52.631579   \n",
      "64638     47.058824      93.382353          100.0      51.470588   \n",
      "64639     53.383459      93.984962          100.0      41.353383   \n",
      "64640     54.918033      90.983607          100.0      75.409836   \n",
      "64641     63.025210      89.915966          100.0      78.991597   \n",
      "\n",
      "       5-week-spread  total-error         r  param-thresh  \n",
      "0         100.000000   563.000000 -0.016690           NaN  \n",
      "1           0.000000   467.000000       NaN           NaN  \n",
      "2         100.000000  1447.000000 -0.081257           NaN  \n",
      "3         100.000000   491.000000  0.269907           NaN  \n",
      "4           0.000000   467.000000       NaN           NaN  \n",
      "...              ...          ...       ...           ...  \n",
      "64637      15.037594   709.120301 -0.058847           1.0  \n",
      "64638      18.382353   704.176471 -0.059070           1.0  \n",
      "64639      29.323308   711.120301 -0.059069           1.0  \n",
      "64640      26.229508   733.131147 -0.061703           1.0  \n",
      "64641      31.092437   740.310924 -0.063127           1.0  \n",
      "\n",
      "[64642 rows x 24 columns]\n"
     ]
    }
   ],
   "source": [
    "#I want to make this nice figure agin too \n",
    "df=pd.read_csv(\"infl_mod_with_param_thresh.csv\")\n",
    "print(df)"
   ]
  },
  {
   "cell_type": "code",
   "execution_count": 12,
   "id": "8e5096e6",
   "metadata": {},
   "outputs": [
    {
     "name": "stdout",
     "output_type": "stream",
     "text": [
      "       Unnamed: 0    run    n spread-type  simple-spread-chance  \\\n",
      "12411       12411  12411  300      simple                  0.05   \n",
      "12412       12412  12412  300      simple                  0.05   \n",
      "12413       12413  12413  300      simple                  0.05   \n",
      "12414       12414  12414  300      simple                  0.05   \n",
      "12415       12415  12415  300      simple                  0.05   \n",
      "...           ...    ...  ...         ...                   ...   \n",
      "64637       64637  64637  300      simple                  0.75   \n",
      "64638       64638  64638  300      simple                  0.75   \n",
      "64639       64639  64639  300      simple                  0.75   \n",
      "64640       64640  64640  300      simple                  0.75   \n",
      "64641       64641  64641  300      simple                  0.75   \n",
      "\n",
      "            graph-type  ba-m  citizen-media-influence  \\\n",
      "12411  barabasi-albert     3                     0.05   \n",
      "12412  barabasi-albert     3                     0.05   \n",
      "12413  barabasi-albert     3                     0.05   \n",
      "12414  barabasi-albert     3                     0.05   \n",
      "12415  barabasi-albert     3                     0.05   \n",
      "...                ...   ...                      ...   \n",
      "64637  barabasi-albert    10                     0.75   \n",
      "64638  barabasi-albert    10                     0.75   \n",
      "64639  barabasi-albert    10                     0.75   \n",
      "64640  barabasi-albert    10                     0.75   \n",
      "64641  barabasi-albert    10                     0.75   \n",
      "\n",
      "       citizen-citizen-influence  repetition  ... peak-time  total-spread  \\\n",
      "12411                       0.75           0  ...        23           314   \n",
      "12412                       0.75           0  ...        35           313   \n",
      "12413                       0.75           0  ...       103           182   \n",
      "12414                       0.75           0  ...        84           256   \n",
      "12415                       0.75           0  ...        31           309   \n",
      "...                          ...         ...  ...       ...           ...   \n",
      "64637                       0.75           4  ...         3           332   \n",
      "64638                       0.75           4  ...         3           332   \n",
      "64639                       0.75           4  ...         3           332   \n",
      "64640                       0.75           4  ...         3           332   \n",
      "64641                       0.75           4  ...         3           332   \n",
      "\n",
      "      1-week-spread  2-week-spread  3-week-spread  4-week-spread  \\\n",
      "12411     66.666667      66.666667      77.777778      55.555556   \n",
      "12412     75.000000      62.500000      62.500000      75.000000   \n",
      "12413     66.666667      66.666667      44.444444      77.777778   \n",
      "12414     60.000000      50.000000      80.000000      60.000000   \n",
      "12415     75.000000      66.666667      50.000000      50.000000   \n",
      "...             ...            ...            ...            ...   \n",
      "64637     52.631579      92.481203     100.000000      52.631579   \n",
      "64638     47.058824      93.382353     100.000000      51.470588   \n",
      "64639     53.383459      93.984962     100.000000      41.353383   \n",
      "64640     54.918033      90.983607     100.000000      75.409836   \n",
      "64641     63.025210      89.915966     100.000000      78.991597   \n",
      "\n",
      "       5-week-spread  total-error         r  param-thresh  \n",
      "12411      77.777778  3506.111111 -0.177521           1.0  \n",
      "12412      75.000000  3882.500000 -0.209845           1.0  \n",
      "12413      88.888889  1797.000000  0.341759           1.0  \n",
      "12414      60.000000  2397.000000  0.107094           1.0  \n",
      "12415      58.333333  2709.333333 -0.213339           1.0  \n",
      "...              ...          ...       ...           ...  \n",
      "64637      15.037594   709.120301 -0.058847           1.0  \n",
      "64638      18.382353   704.176471 -0.059070           1.0  \n",
      "64639      29.323308   711.120301 -0.059069           1.0  \n",
      "64640      26.229508   733.131147 -0.061703           1.0  \n",
      "64641      31.092437   740.310924 -0.063127           1.0  \n",
      "\n",
      "[45037 rows x 24 columns]\n"
     ]
    }
   ],
   "source": [
    "df=df.loc[df[\"param-thresh\"]==1]\n",
    "print(df)"
   ]
  },
  {
   "cell_type": "code",
   "execution_count": 13,
   "id": "a30fa815",
   "metadata": {},
   "outputs": [
    {
     "data": {
      "image/png": "[encoded data removed]",
      "text/plain": [
       "<Figure size 432x288 with 1 Axes>"
      ]
     },
     "metadata": {
      "needs_background": "light"
     },
     "output_type": "display_data"
    }
   ],
   "source": [
    "sns.histplot(df, x=\"peak-time\", hue=\"simple-spread-chance\", bins=40, palette=['#5183bb','#90c3dd','#feeba1','#ef633f','#c21c27'])\n",
    "plt.axvline(91,0,800, color = '#d22b27', label = \"Flint Peak\")\n",
    "plt.axvline(3,0,800, color = '#3e5ea8', label = \"East Palestine\")\n",
    "plt.title(\"Influence Model Time of Peak Results\")\n",
    "plt.xlabel(\"Time of Peak\")\n",
    "\n",
    "\n",
    "ep = mpatches.Patch(color='#3e5ea8', label='East Palestine', fill = False)\n",
    "flint = mpatches.Patch(color='#d22b27', label='Flint', fill= False)\n",
    "zero_five = mpatches.Patch(color='#5183bb', label='0.05')\n",
    "one = mpatches.Patch(color='#90c3dd', label='0.1')\n",
    "two_five = mpatches.Patch(color='#feeba1', label='0.25')\n",
    "five = mpatches.Patch(color='#ef633f', label='0.5')\n",
    "seven_five = mpatches.Patch(color='#c21c27', label='0.75')\n",
    "plt.legend(handles=[flint, ep, zero_five, one, two_five, five, seven_five], loc = 'upper center', bbox_to_anchor=(0.5,-.1), ncol=7, fontsize=10,title=\"Simple Spread Chance\" )\n",
    "\n",
    "plt.savefig(\"Influence Model Histogram Time Peaks.png\")"
   ]
  },
  {
   "cell_type": "code",
   "execution_count": 32,
   "id": "003c1046",
   "metadata": {},
   "outputs": [
    {
     "data": {
      "image/png": "[encoded data removed]",
      "text/plain": [
       "<Figure size 720x720 with 2 Axes>"
      ]
     },
     "metadata": {
      "needs_background": "light"
     },
     "output_type": "display_data"
    }
   ],
   "source": [
    "# can we do these in one figure\n",
    "fig, axes=plt.subplots(2,1, sharex=True, sharey=False,figsize= (10,10))\n",
    "fig.suptitle('Time of Peak Between Model Versions', fontsize=15,x=.5,y=.95)\n",
    "#fig.text(.5, 0.09, \"Time of Peak in Simulation\", ha=\"center\", fontsize = 12)\n",
    "fig.text(0.05, .5, \"Count\", va=\"center\", rotation = \"vertical\", fontsize = 12)\n",
    "\n",
    "#ax[0].hist(x=base_mod_thresh_pass[\"peak-time\"], )\n",
    "\n",
    "#sns.regplot(x='value', y='wage', data=df_melt, ax=axs[0])\n",
    "#sns.regplot(x='value', y='wage', data=df_melt, ax=axs[1])\n",
    "#sns.boxplot(x='education',y='wage', data=df_melt, ax=axs[2])\n",
    "\n",
    "\n",
    "\n",
    "sns.histplot(base_mod_thresh_pass, x=\"peak-time\", hue=\"simple-spread-chance\", bins=40, palette=['#5183bb','#90c3dd','#feeba1','#ef633f','#c21c27'], legend = False, ax=axes[0])\n",
    "axes[0].axvline(91,0,800, color = '#d22b27', label = \"Flint Peak\")\n",
    "axes[0].axvline(3,0,800, color = '#3e5ea8', label = \"East Palestine\")\n",
    "axes[0].set_title(\"Base Model\")\n",
    "#plt.xlabel(\"Time of Peak\")\n",
    "\n",
    "sns.histplot(df, x=\"peak-time\", hue=\"simple-spread-chance\", bins=40, palette=['#5183bb','#90c3dd','#feeba1','#ef633f','#c21c27'], legend = False, ax=axes[1])\n",
    "axes[1].axvline(91,0,800, color = '#d22b27', label = \"Flint Peak\")\n",
    "axes[1].axvline(3,0,800, color = '#3e5ea8', label = \"East Palestine\")\n",
    "axes[1].set_title(\"Heterogeneous Model\")\n",
    "\n",
    "\n",
    "flint = mpatches.Patch(color='#d22b27', label='Flint', fill=False)\n",
    "ep = mpatches.Patch(color='#3e5ea8', label='East Palestine', fill=False)\n",
    "sim1 = mpatches.Patch(color='#5183bb', label='p = 0.05')\n",
    "sim2 = mpatches.Patch(color='#90c3dd', label='p = 0.1')\n",
    "sim3 = mpatches.Patch(color='#feeba1', label='p = 0.25')\n",
    "sim4 = mpatches.Patch(color='#ef633f', label='p = 0.5')\n",
    "sim5 = mpatches.Patch(color='#c21c27', label='p = 0.75')\n",
    "fig.legend(handles=[flint, ep, sim1,sim2,sim3,sim4,sim5], loc = 'lower center', bbox_to_anchor=(0.5,0.02), ncol=7, fontsize=10, )\n",
    "\n",
    "plt.savefig(\"Time of Peak histogrames 7_19.png\")"
   ]
  },
  {
   "cell_type": "code",
   "execution_count": null,
   "id": "2448fde3",
   "metadata": {},
   "outputs": [],
   "source": []
  }
 ],
 "metadata": {
  "kernelspec": {
   "display_name": "Python 3 (ipykernel)",
   "language": "python",
   "name": "python3"
  },
  "language_info": {
   "codemirror_mode": {
    "name": "ipython",
    "version": 3
   },
   "file_extension": ".py",
   "mimetype": "text/x-python",
   "name": "python",
   "nbconvert_exporter": "python",
   "pygments_lexer": "ipython3",
   "version": "3.9.7"
  }
 },
 "nbformat": 4,
 "nbformat_minor": 5
}
